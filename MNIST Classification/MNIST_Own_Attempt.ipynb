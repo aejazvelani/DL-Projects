{
  "nbformat": 4,
  "nbformat_minor": 0,
  "metadata": {
    "kernelspec": {
      "display_name": "Python 3",
      "language": "python",
      "name": "python3"
    },
    "language_info": {
      "codemirror_mode": {
        "name": "ipython",
        "version": 3
      },
      "file_extension": ".py",
      "mimetype": "text/x-python",
      "name": "python",
      "nbconvert_exporter": "python",
      "pygments_lexer": "ipython3",
      "version": "3.7.6"
    },
    "colab": {
      "name": "MNIST_Own_Attempt.ipynb",
      "provenance": []
    }
  },
  "cells": [
    {
      "cell_type": "code",
      "metadata": {
        "id": "-d_47oTQ7Bhc",
        "colab_type": "code",
        "colab": {}
      },
      "source": [
        "#Importing Required Libraries\n",
        "\n",
        "import tensorflow as tf\n",
        "import tensorflow.keras as keras\n",
        "import numpy as np\n",
        "import os\n",
        "import random\n",
        "import cv2\n",
        "from tensorflow.keras import layers\n",
        "from tensorflow.keras.optimizers import Adam\n",
        "from tensorflow.keras.utils import to_categorical\n",
        "import matplotlib.pyplot as plt\n",
        "%matplotlib inline"
      ],
      "execution_count": null,
      "outputs": []
    },
    {
      "cell_type": "code",
      "metadata": {
        "id": "U-x7kIvT7Bhl",
        "colab_type": "code",
        "colab": {
          "base_uri": "https://localhost:8080/",
          "height": 87
        },
        "outputId": "e9e33af5-379d-4c4c-d7f9-856ea363adbe"
      },
      "source": [
        "tf.config.experimental_run_functions_eagerly(True)"
      ],
      "execution_count": null,
      "outputs": [
        {
          "output_type": "stream",
          "text": [
            "WARNING:tensorflow:From <ipython-input-2-bdb3352f611a>:1: experimental_run_functions_eagerly (from tensorflow.python.eager.def_function) is deprecated and will be removed in a future version.\n",
            "Instructions for updating:\n",
            "Use `tf.config.run_functions_eagerly` instead of the experimental version.\n"
          ],
          "name": "stdout"
        }
      ]
    },
    {
      "cell_type": "code",
      "metadata": {
        "id": "mTi9r5pw7Bhw",
        "colab_type": "code",
        "colab": {
          "base_uri": "https://localhost:8080/",
          "height": 50
        },
        "outputId": "500d73ff-e2f3-4f37-a498-07d070a03e4e"
      },
      "source": [
        "#Downloading and storing the MNIST Dataset\n",
        "\n",
        "a,b = tf.keras.datasets.mnist.load_data(path='mnist.npz')"
      ],
      "execution_count": null,
      "outputs": [
        {
          "output_type": "stream",
          "text": [
            "Downloading data from https://storage.googleapis.com/tensorflow/tf-keras-datasets/mnist.npz\n",
            "11493376/11490434 [==============================] - 0s 0us/step\n"
          ],
          "name": "stdout"
        }
      ]
    },
    {
      "cell_type": "code",
      "metadata": {
        "id": "Lqk99lGt7Bh2",
        "colab_type": "code",
        "colab": {}
      },
      "source": [
        "#Getting the train and test images and labels for each image\n",
        "train_X = a[0]\n",
        "train_y = a[1]\n",
        "test_X = b[0]\n",
        "test_y = b[1]"
      ],
      "execution_count": null,
      "outputs": []
    },
    {
      "cell_type": "code",
      "metadata": {
        "id": "M1aq9P-j7Bh8",
        "colab_type": "code",
        "colab": {
          "base_uri": "https://localhost:8080/",
          "height": 84
        },
        "outputId": "7a6d26da-fc7b-4fb7-b45e-4a1294793ec4"
      },
      "source": [
        "#Printing shapes of the training and testing datasets\n",
        "\n",
        "print(train_X.shape)\n",
        "print(train_y.shape)\n",
        "print(test_X.shape)\n",
        "print(test_y.shape)"
      ],
      "execution_count": null,
      "outputs": [
        {
          "output_type": "stream",
          "text": [
            "(60000, 28, 28)\n",
            "(60000,)\n",
            "(10000, 28, 28)\n",
            "(10000,)\n"
          ],
          "name": "stdout"
        }
      ]
    },
    {
      "cell_type": "code",
      "metadata": {
        "id": "891F6hlv7BiD",
        "colab_type": "code",
        "colab": {
          "base_uri": "https://localhost:8080/",
          "height": 314
        },
        "outputId": "f2d6756c-4901-4e22-a298-7f2c8306d38e"
      },
      "source": [
        "#Printing a random image from training dataset along with its label as the title of th image(plot)\n",
        "ran = random.randint(0,60000)\n",
        "print(\"Index: \", ran)\n",
        "plt.title(train_y[ran])\n",
        "plt.imshow(train_X[ran])"
      ],
      "execution_count": null,
      "outputs": [
        {
          "output_type": "stream",
          "text": [
            "Index:  25744\n"
          ],
          "name": "stdout"
        },
        {
          "output_type": "execute_result",
          "data": {
            "text/plain": [
              "<matplotlib.image.AxesImage at 0x7f9b3883a080>"
            ]
          },
          "metadata": {
            "tags": []
          },
          "execution_count": 6
        },
        {
          "output_type": "display_data",
          "data": {
            "image/png": "[encoded data removed]",
            "text/plain": [
              "<Figure size 432x288 with 1 Axes>"
            ]
          },
          "metadata": {
            "tags": [],
            "needs_background": "light"
          }
        }
      ]
    },
    {
      "cell_type": "code",
      "metadata": {
        "id": "th5gdGb-7BiK",
        "colab_type": "code",
        "colab": {
          "base_uri": "https://localhost:8080/",
          "height": 314
        },
        "outputId": "a5f3e80e-7348-4947-fd0b-e69e24b6f654"
      },
      "source": [
        "#Printing another random image from training dataset along with its label as the title of th image(plot)\n",
        "ran = random.randint(0,60000)\n",
        "print(\"Index: \", ran)\n",
        "plt.title(train_y[ran])\n",
        "plt.imshow(train_X[ran])"
      ],
      "execution_count": null,
      "outputs": [
        {
          "output_type": "stream",
          "text": [
            "Index:  8860\n"
          ],
          "name": "stdout"
        },
        {
          "output_type": "execute_result",
          "data": {
            "text/plain": [
              "<matplotlib.image.AxesImage at 0x7f9b38813828>"
            ]
          },
          "metadata": {
            "tags": []
          },
          "execution_count": 7
        },
        {
          "output_type": "display_data",
          "data": {
            "image/png": "[encoded data removed]",
            "text/plain": [
              "<Figure size 432x288 with 1 Axes>"
            ]
          },
          "metadata": {
            "tags": [],
            "needs_background": "light"
          }
        }
      ]
    },
    {
      "cell_type": "code",
      "metadata": {
        "id": "ijKFpVj87BiS",
        "colab_type": "code",
        "colab": {
          "base_uri": "https://localhost:8080/",
          "height": 314
        },
        "outputId": "e0cb1ec5-2039-4b2a-eb2e-8eb7902770bd"
      },
      "source": [
        "#Printing a random image from testing dataset along with its label as the title of th image(plot)\n",
        "ran = random.randint(0,10000)\n",
        "print(\"Index: \", ran)\n",
        "plt.title(test_y[ran])\n",
        "plt.imshow(test_X[ran])"
      ],
      "execution_count": null,
      "outputs": [
        {
          "output_type": "stream",
          "text": [
            "Index:  8045\n"
          ],
          "name": "stdout"
        },
        {
          "output_type": "execute_result",
          "data": {
            "text/plain": [
              "<matplotlib.image.AxesImage at 0x7f9b38813f98>"
            ]
          },
          "metadata": {
            "tags": []
          },
          "execution_count": 8
        },
        {
          "output_type": "display_data",
          "data": {
            "image/png": "[encoded data removed]",
            "text/plain": [
              "<Figure size 432x288 with 1 Axes>"
            ]
          },
          "metadata": {
            "tags": [],
            "needs_background": "light"
          }
        }
      ]
    },
    {
      "cell_type": "code",
      "metadata": {
        "id": "CcJSQozh7BiZ",
        "colab_type": "code",
        "colab": {
          "base_uri": "https://localhost:8080/",
          "height": 314
        },
        "outputId": "bc755e7e-2fa1-4bbf-914a-5c7549aa9c41"
      },
      "source": [
        "#Printing another random image from testing dataset along with its label as the title of th image(plot)\n",
        "ran = random.randint(0,10000)\n",
        "print(\"Index: \", ran)\n",
        "plt.title(test_y[ran])\n",
        "plt.imshow(test_X[ran])"
      ],
      "execution_count": null,
      "outputs": [
        {
          "output_type": "stream",
          "text": [
            "Index:  1905\n"
          ],
          "name": "stdout"
        },
        {
          "output_type": "execute_result",
          "data": {
            "text/plain": [
              "<matplotlib.image.AxesImage at 0x7f9b72b00080>"
            ]
          },
          "metadata": {
            "tags": []
          },
          "execution_count": 9
        },
        {
          "output_type": "display_data",
          "data": {
            "image/png": "[encoded data removed]",
            "text/plain": [
              "<Figure size 432x288 with 1 Axes>"
            ]
          },
          "metadata": {
            "tags": [],
            "needs_background": "light"
          }
        }
      ]
    },
    {
      "cell_type": "code",
      "metadata": {
        "id": "-FlVxWUA7Bie",
        "colab_type": "code",
        "colab": {}
      },
      "source": [
        "#Initializing some model parameters\n",
        "num_of_pixels = 784\n",
        "num_of_classes = 10\n",
        "batch_size = 200\n",
        "epochs = 15"
      ],
      "execution_count": null,
      "outputs": []
    },
    {
      "cell_type": "code",
      "metadata": {
        "id": "UKCVBwLa7Bij",
        "colab_type": "code",
        "colab": {
          "base_uri": "https://localhost:8080/",
          "height": 50
        },
        "outputId": "891d929d-943e-4589-87b9-c3853d7cba0a"
      },
      "source": [
        "#Reshaping the images from 28*28 arrays to a 784 vector for training and testing\n",
        "train_X_act = train_X.reshape(-1, 784)\n",
        "test_X_act = test_X.reshape(-1, 784)\n",
        "print(train_X_act.shape)\n",
        "print(test_X_act.shape)"
      ],
      "execution_count": null,
      "outputs": [
        {
          "output_type": "stream",
          "text": [
            "(60000, 784)\n",
            "(10000, 784)\n"
          ],
          "name": "stdout"
        }
      ]
    },
    {
      "cell_type": "code",
      "metadata": {
        "id": "IdLu-Pz_7Bis",
        "colab_type": "code",
        "colab": {}
      },
      "source": [
        "#One-Hot Encoding the target labels for training\n",
        "train_y_act = to_categorical(train_y, 10)\n",
        "test_y_act = to_categorical(test_y, 10)"
      ],
      "execution_count": null,
      "outputs": []
    },
    {
      "cell_type": "code",
      "metadata": {
        "id": "jEQKuSnt7Bix",
        "colab_type": "code",
        "colab": {
          "base_uri": "https://localhost:8080/",
          "height": 318
        },
        "outputId": "d1ae5c02-f958-45ee-fb11-8b96314a9b34"
      },
      "source": [
        "#Creating a Deep Learning model with 3 Dense Layers\n",
        "model = keras.Sequential(\n",
        "[\n",
        "    layers.Dense(10, input_shape = (784,), activation = 'relu'),\n",
        "    layers.Dense(20, activation = 'relu'),\n",
        "    layers.Dense(10, activation = 'relu'),\n",
        "    layers.Dense(10, activation = 'relu'),\n",
        "    layers.Dense(num_of_classes, activation = 'softmax'),\n",
        "]\n",
        ")\n",
        "model.summary()"
      ],
      "execution_count": null,
      "outputs": [
        {
          "output_type": "stream",
          "text": [
            "Model: \"sequential\"\n",
            "_________________________________________________________________\n",
            "Layer (type)                 Output Shape              Param #   \n",
            "=================================================================\n",
            "dense (Dense)                (None, 10)                7850      \n",
            "_________________________________________________________________\n",
            "dense_1 (Dense)              (None, 20)                220       \n",
            "_________________________________________________________________\n",
            "dense_2 (Dense)              (None, 10)                210       \n",
            "_________________________________________________________________\n",
            "dense_3 (Dense)              (None, 10)                110       \n",
            "_________________________________________________________________\n",
            "dense_4 (Dense)              (None, 10)                110       \n",
            "=================================================================\n",
            "Total params: 8,500\n",
            "Trainable params: 8,500\n",
            "Non-trainable params: 0\n",
            "_________________________________________________________________\n"
          ],
          "name": "stdout"
        }
      ]
    },
    {
      "cell_type": "code",
      "metadata": {
        "id": "_K4BfHe27Bi2",
        "colab_type": "code",
        "colab": {}
      },
      "source": [
        "#If model exists, uncomment this and execute\n",
        "model = tf.keras.models.load_model('MNIST_Model.h5')"
      ],
      "execution_count": null,
      "outputs": []
    },
    {
      "cell_type": "code",
      "metadata": {
        "id": "6muD7OW17Bi8",
        "colab_type": "code",
        "colab": {}
      },
      "source": [
        "#Else, uncomment these lines and run\n",
        "#model.compile(Adam(lr = 0.01), loss='categorical_crossentropy', metrics=['accuracy'])\n",
        "#history = model.fit(train_X_act, train_y_act, validation_split=0.1, epochs = epochs, batch_size = batch_size, verbose=1, shuffle=1)"
      ],
      "execution_count": null,
      "outputs": []
    },
    {
      "cell_type": "code",
      "metadata": {
        "id": "w1EBAEq-7BjB",
        "colab_type": "code",
        "colab": {
          "base_uri": "https://localhost:8080/",
          "height": 120
        },
        "outputId": "39ced127-c778-4181-a765-c85b592ee2cc"
      },
      "source": [
        "#Testing the model using the test data\n",
        "result = model.evaluate(test_X_act, test_y_act, batch_size = batch_size)\n",
        "print(\"Test Loss: \", result[0])\n",
        "print(\"Test Accuracy\", result[1])"
      ],
      "execution_count": null,
      "outputs": [
        {
          "output_type": "stream",
          "text": [
            "/usr/local/lib/python3.6/dist-packages/tensorflow/python/data/ops/dataset_ops.py:3350: UserWarning: Even though the tf.config.experimental_run_functions_eagerly option is set, this option does not apply to tf.data functions. tf.data functions are still traced and executed as graphs.\n",
            "  \"Even though the tf.config.experimental_run_functions_eagerly \"\n"
          ],
          "name": "stderr"
        },
        {
          "output_type": "stream",
          "text": [
            "50/50 [==============================] - 0s 6ms/step - loss: 0.4664 - accuracy: 0.8719\n",
            "Test Loss:  0.4664106070995331\n",
            "Test Accuracy 0.8719000220298767\n"
          ],
          "name": "stdout"
        }
      ]
    },
    {
      "cell_type": "code",
      "metadata": {
        "id": "htARP74B7BjI",
        "colab_type": "code",
        "colab": {}
      },
      "source": [
        "#Saving the model\n",
        "model.save(\"MNIST_Model.h5\")"
      ],
      "execution_count": null,
      "outputs": []
    },
    {
      "cell_type": "code",
      "metadata": {
        "id": "VtRRQTGQ7BjN",
        "colab_type": "code",
        "colab": {
          "base_uri": "https://localhost:8080/",
          "height": 351
        },
        "outputId": "54ef6c6f-aaba-4e47-c270-1bfe44795782"
      },
      "source": [
        "#Checking the prediction of the model on a random picture from the test data\n",
        "ran = random.randint(0,10000)\n",
        "result = model.predict(test_X_act[ran].reshape(-1,784))\n",
        "plt.title(test_y[ran])\n",
        "plt.imshow(test_X[ran])\n",
        "result_temp = np.where(result == np.amax(result))\n",
        "print(\"Prediction: \", result_temp[1][0])"
      ],
      "execution_count": null,
      "outputs": [
        {
          "output_type": "stream",
          "text": [
            "Prediction:  8\n"
          ],
          "name": "stdout"
        },
        {
          "output_type": "stream",
          "text": [
            "/usr/local/lib/python3.6/dist-packages/tensorflow/python/data/ops/dataset_ops.py:3350: UserWarning: Even though the tf.config.experimental_run_functions_eagerly option is set, this option does not apply to tf.data functions. tf.data functions are still traced and executed as graphs.\n",
            "  \"Even though the tf.config.experimental_run_functions_eagerly \"\n"
          ],
          "name": "stderr"
        },
        {
          "output_type": "display_data",
          "data": {
            "image/png": "[encoded data removed]",
            "text/plain": [
              "<Figure size 432x288 with 1 Axes>"
            ]
          },
          "metadata": {
            "tags": [],
            "needs_background": "light"
          }
        }
      ]
    },
    {
      "cell_type": "code",
      "metadata": {
        "id": "PPm2uIjs7BjV",
        "colab_type": "code",
        "colab": {
          "base_uri": "https://localhost:8080/",
          "height": 351
        },
        "outputId": "3499bb5c-707c-468e-ea45-86b5499dcaf1"
      },
      "source": [
        "#Checking the prediction of the model on a random picture from the test data\n",
        "ran = random.randint(0,10000)\n",
        "result = model.predict(test_X_act[ran].reshape(-1,784))\n",
        "plt.title(test_y[ran])\n",
        "plt.imshow(test_X[ran])\n",
        "result_temp = np.where(result == np.amax(result))\n",
        "print(\"Prediction: \", result_temp[1][0])"
      ],
      "execution_count": null,
      "outputs": [
        {
          "output_type": "stream",
          "text": [
            "Prediction:  8\n"
          ],
          "name": "stdout"
        },
        {
          "output_type": "stream",
          "text": [
            "/usr/local/lib/python3.6/dist-packages/tensorflow/python/data/ops/dataset_ops.py:3350: UserWarning: Even though the tf.config.experimental_run_functions_eagerly option is set, this option does not apply to tf.data functions. tf.data functions are still traced and executed as graphs.\n",
            "  \"Even though the tf.config.experimental_run_functions_eagerly \"\n"
          ],
          "name": "stderr"
        },
        {
          "output_type": "display_data",
          "data": {
            "image/png": "[encoded data removed]",
            "text/plain": [
              "<Figure size 432x288 with 1 Axes>"
            ]
          },
          "metadata": {
            "tags": [],
            "needs_background": "light"
          }
        }
      ]
    },
    {
      "cell_type": "code",
      "metadata": {
        "id": "T62YpkI47Bjb",
        "colab_type": "code",
        "colab": {
          "base_uri": "https://localhost:8080/",
          "height": 351
        },
        "outputId": "6e31adf8-6439-4ca8-87c3-07e1c115bded"
      },
      "source": [
        "#Checking the prediction of the model on a random picture from the test data\n",
        "ran = random.randint(0,10000)\n",
        "result = model.predict(test_X_act[ran].reshape(-1,784))\n",
        "plt.title(test_y[ran])\n",
        "plt.imshow(test_X[ran])\n",
        "result_temp = np.where(result == np.amax(result))\n",
        "print(\"Prediction: \", result_temp[1][0])"
      ],
      "execution_count": null,
      "outputs": [
        {
          "output_type": "stream",
          "text": [
            "Prediction:  9\n"
          ],
          "name": "stdout"
        },
        {
          "output_type": "stream",
          "text": [
            "/usr/local/lib/python3.6/dist-packages/tensorflow/python/data/ops/dataset_ops.py:3350: UserWarning: Even though the tf.config.experimental_run_functions_eagerly option is set, this option does not apply to tf.data functions. tf.data functions are still traced and executed as graphs.\n",
            "  \"Even though the tf.config.experimental_run_functions_eagerly \"\n"
          ],
          "name": "stderr"
        },
        {
          "output_type": "display_data",
          "data": {
            "image/png": "[encoded data removed]",
            "text/plain": [
              "<Figure size 432x288 with 1 Axes>"
            ]
          },
          "metadata": {
            "tags": [],
            "needs_background": "light"
          }
        }
      ]
    },
    {
      "cell_type": "code",
      "metadata": {
        "id": "1eSdS6jp7Bjg",
        "colab_type": "code",
        "colab": {
          "base_uri": "https://localhost:8080/",
          "height": 351
        },
        "outputId": "4b15382c-cb9e-4973-8057-141bebc7d79e"
      },
      "source": [
        "#Checking the prediction of the model on a random picture from the test data\n",
        "ran = random.randint(0,10000)\n",
        "result = model.predict(test_X_act[ran].reshape(-1,784))\n",
        "plt.title(test_y[ran])\n",
        "plt.imshow(test_X[ran])\n",
        "result_temp = np.where(result == np.amax(result))\n",
        "print(\"Prediction: \", result_temp[1][0])"
      ],
      "execution_count": null,
      "outputs": [
        {
          "output_type": "stream",
          "text": [
            "Prediction:  2\n"
          ],
          "name": "stdout"
        },
        {
          "output_type": "stream",
          "text": [
            "/usr/local/lib/python3.6/dist-packages/tensorflow/python/data/ops/dataset_ops.py:3350: UserWarning: Even though the tf.config.experimental_run_functions_eagerly option is set, this option does not apply to tf.data functions. tf.data functions are still traced and executed as graphs.\n",
            "  \"Even though the tf.config.experimental_run_functions_eagerly \"\n"
          ],
          "name": "stderr"
        },
        {
          "output_type": "display_data",
          "data": {
            "image/png": "[encoded data removed]",
            "text/plain": [
              "<Figure size 432x288 with 1 Axes>"
            ]
          },
          "metadata": {
            "tags": [],
            "needs_background": "light"
          }
        }
      ]
    },
    {
      "cell_type": "code",
      "metadata": {
        "id": "i3lOl5Ab7Bjl",
        "colab_type": "code",
        "colab": {
          "base_uri": "https://localhost:8080/",
          "height": 351
        },
        "outputId": "0de78856-33d0-4d87-ec9b-f84a68f4e660"
      },
      "source": [
        "#Checking the prediction of the model on a random picture from the test data\n",
        "ran = random.randint(0,10000)\n",
        "result = model.predict(test_X_act[ran].reshape(-1,784))\n",
        "plt.title(test_y[ran])\n",
        "plt.imshow(test_X[ran])\n",
        "result_temp = np.where(result == np.amax(result))\n",
        "print(\"Prediction: \", result_temp[1][0])"
      ],
      "execution_count": null,
      "outputs": [
        {
          "output_type": "stream",
          "text": [
            "Prediction:  1\n"
          ],
          "name": "stdout"
        },
        {
          "output_type": "stream",
          "text": [
            "/usr/local/lib/python3.6/dist-packages/tensorflow/python/data/ops/dataset_ops.py:3350: UserWarning: Even though the tf.config.experimental_run_functions_eagerly option is set, this option does not apply to tf.data functions. tf.data functions are still traced and executed as graphs.\n",
            "  \"Even though the tf.config.experimental_run_functions_eagerly \"\n"
          ],
          "name": "stderr"
        },
        {
          "output_type": "display_data",
          "data": {
            "image/png": "[encoded data removed]",
            "text/plain": [
              "<Figure size 432x288 with 1 Axes>"
            ]
          },
          "metadata": {
            "tags": [],
            "needs_background": "light"
          }
        }
      ]
    },
    {
      "cell_type": "code",
      "metadata": {
        "id": "5G0mNGj67Bjp",
        "colab_type": "code",
        "colab": {}
      },
      "source": [
        ""
      ],
      "execution_count": null,
      "outputs": []
    }
  ]
}